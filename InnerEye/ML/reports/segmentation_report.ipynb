{
 "cells": [
  {
   "cell_type": "code",
   "execution_count": null,
   "id": "1",
   "metadata": {
    "pycharm": {
     "name": "#%%\n"
    },
    "tags": [
     "parameters"
    ]
   },
   "outputs": [],
   "source": [
    "# Default parameter values. They will be overwritten by papermill notebook parameters.\n",
    "# This cell must carry the tag \"parameters\" in its metadata.\n",
    "from pathlib import Path\n",
    "innereye_path = Path.cwd().parent.parent.parent\n",
    "train_metrics_csv = ''\n",
    "val_metrics_csv = ''\n",
    "test_metrics_csv = innereye_path / 'Tests' / 'ML' / 'reports' / 'metrics_hn.csv'\n",
    "\n",
    "# The standard deviation range data points must fall outside of to be considered as outliers\n",
    "outlier_range = 3.0\n",
    "# The maximum number of results to show when printing the low performing subjects\n",
    "max_worst_patients = 20"
   ]
  },
  {
   "cell_type": "code",
   "execution_count": null,
   "id": "2",
   "metadata": {
    "pycharm": {
     "name": "#%%\n"
    }
   },
   "outputs": [],
   "source": [
    "%matplotlib inline\n",
    "import matplotlib.pyplot as plt\n",
    "import sys\n",
    "\n",
    "if str(innereye_path) not in sys.path:\n",
    "    sys.path.append(str(innereye_path))\n",
    "from InnerEye.Common.fixed_paths import add_submodules_to_path\n",
    "add_submodules_to_path()\n",
    "\n",
    "from InnerEye.ML.reports.segmentation_report import plot_scores_for_csv\n",
    "import warnings\n",
    "warnings.filterwarnings(\"ignore\")\n",
    "plt.rcParams['figure.figsize'] = (20, 10)"
   ]
  },
  {
   "cell_type": "markdown",
   "id": "3",
   "metadata": {
    "pycharm": {
     "name": "#%% md\n"
    }
   },
   "source": [
    "# Test set scores"
   ]
  },
  {
   "cell_type": "code",
   "execution_count": null,
   "id": "4",
   "metadata": {
    "pycharm": {
     "name": "#%%\n"
    }
   },
   "outputs": [],
   "source": [
    "if Path(test_metrics_csv).is_file():\n",
    "    plot_scores_for_csv(test_metrics_csv, outlier_range, max_worst_patients)"
   ]
  },
  {
   "cell_type": "markdown",
   "id": "5",
   "metadata": {},
   "source": [
    "# Validation set scores"
   ]
  },
  {
   "cell_type": "code",
   "execution_count": null,
   "id": "6",
   "metadata": {
    "pycharm": {
     "name": "#%%\n"
    }
   },
   "outputs": [],
   "source": [
    "if Path(val_metrics_csv).is_file():\n",
    "    plot_scores_for_csv(val_metrics_csv, outlier_range, max_worst_patients)"
   ]
  },
  {
   "cell_type": "markdown",
   "id": "7",
   "metadata": {
    "pycharm": {
     "name": "#%% md\n"
    }
   },
   "source": [
    "# Training set scores"
   ]
  },
  {
   "cell_type": "code",
   "execution_count": null,
   "id": "8",
   "metadata": {
    "pycharm": {
     "name": "#%%\n"
    }
   },
   "outputs": [],
   "source": [
    "if Path(train_metrics_csv).is_file():\n",
    "    plot_scores_for_csv(train_metrics_csv, outlier_range, max_worst_patients)"
   ]
  },
  {
   "cell_type": "code",
   "execution_count": null,
   "id": "9",
   "metadata": {},
   "outputs": [],
   "source": []
  }
 ],
 "metadata": {
  "celltoolbar": "Tags",
  "kernelspec": {
   "display_name": "Python 3",
   "language": "python",
   "name": "python3"
  },
  "language_info": {
   "codemirror_mode": {
    "name": "ipython",
    "version": 3
   },
   "file_extension": ".py",
   "mimetype": "text/x-python",
   "name": "python",
   "nbconvert_exporter": "python",
   "pygments_lexer": "ipython3",
   "version": "3.7.3"
  }
 },
 "nbformat": 4,
 "nbformat_minor": 5
}
