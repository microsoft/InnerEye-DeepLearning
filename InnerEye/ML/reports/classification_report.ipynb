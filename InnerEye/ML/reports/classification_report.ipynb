{
 "cells": [
  {
   "cell_type": "code",
   "execution_count": null,
   "id": "1",
   "metadata": {},
   "outputs": [],
   "source": [
    "%%javascript\n",
    "IPython.OutputArea.prototype._should_scroll = function(lines) {\n",
    "    return false;\n",
    "}\n",
    "// Stops auto-scrolling so entire output is visible: see https://stackoverflow.com/a/41646403"
   ]
  },
  {
   "cell_type": "code",
   "execution_count": null,
   "id": "2",
   "metadata": {
    "pycharm": {
     "name": "#%%\n"
    },
    "tags": [
     "parameters"
    ]
   },
   "outputs": [],
   "source": [
    "# Default parameter values. They will be overwritten by papermill notebook parameters.\n",
    "# This cell must carry the tag \"parameters\" in its metadata.\n",
    "from pathlib import Path\n",
    "innereye_path = Path.cwd().parent.parent.parent\n",
    "train_metrics_csv = \"\"\n",
    "val_metrics_csv = innereye_path / 'Tests' / 'ML' / 'reports' / 'val_metrics_classification.csv'\n",
    "test_metrics_csv = innereye_path / 'Tests' / 'ML' / 'reports' / 'test_metrics_classification.csv'\n",
    "number_best_and_worst_performing = 20\n",
    "dataset_csv_path=innereye_path / 'Tests' / 'ML' / 'reports' / 'dataset.csv'\n",
    "dataset_subject_column=\"subject\"\n",
    "dataset_file_column=\"filePath\""
   ]
  },
  {
   "cell_type": "code",
   "execution_count": null,
   "id": "3",
   "metadata": {
    "pycharm": {
     "name": "#%%\n"
    }
   },
   "outputs": [],
   "source": [
    "%matplotlib inline\n",
    "import matplotlib.pyplot as plt\n",
    "import sys\n",
    "\n",
    "print(f\"Adding to path: {innereye_path}\")\n",
    "if str(innereye_path) not in sys.path:\n",
    "    sys.path.append(str(innereye_path))\n",
    "from InnerEye.ML.reports.classification_report import plot_pr_and_roc_curves_from_csv, \\\n",
    "print_k_best_and_worst_performing, print_metrics, plot_k_best_and_worst_performing\n",
    "\n",
    "import warnings\n",
    "warnings.filterwarnings(\"ignore\")\n",
    "plt.rcParams['figure.figsize'] = (20, 10)\n",
    "\n",
    "#convert params to Path\n",
    "train_metrics_csv = Path(train_metrics_csv)\n",
    "val_metrics_csv = Path(val_metrics_csv)\n",
    "test_metrics_csv = Path(test_metrics_csv)\n",
    "dataset_csv_path = Path(dataset_csv_path)"
   ]
  },
  {
   "cell_type": "markdown",
   "id": "4",
   "metadata": {},
   "source": [
    "# Validation Metrics"
   ]
  },
  {
   "cell_type": "code",
   "execution_count": null,
   "id": "5",
   "metadata": {},
   "outputs": [],
   "source": [
    "if val_metrics_csv.is_file():\n",
    "    print_metrics(val_metrics_csv=val_metrics_csv, test_metrics_csv=val_metrics_csv)"
   ]
  },
  {
   "cell_type": "markdown",
   "id": "6",
   "metadata": {},
   "source": [
    "# Test Metrics"
   ]
  },
  {
   "cell_type": "code",
   "execution_count": null,
   "id": "7",
   "metadata": {},
   "outputs": [],
   "source": [
    "if val_metrics_csv.is_file() and test_metrics_csv.is_file():\n",
    "    print_metrics(val_metrics_csv=val_metrics_csv, test_metrics_csv=test_metrics_csv)"
   ]
  },
  {
   "cell_type": "markdown",
   "id": "8",
   "metadata": {
    "pycharm": {
     "name": "#%% md\n"
    }
   },
   "source": [
    "# AUC and PR curves\n",
    "## Test Set"
   ]
  },
  {
   "cell_type": "code",
   "execution_count": null,
   "id": "9",
   "metadata": {
    "pycharm": {
     "name": "#%%\n"
    }
   },
   "outputs": [],
   "source": [
    "if test_metrics_csv.is_file():\n",
    "    plot_pr_and_roc_curves_from_csv(test_metrics_csv)"
   ]
  },
  {
   "cell_type": "markdown",
   "id": "10",
   "metadata": {},
   "source": [
    "## Validation set"
   ]
  },
  {
   "cell_type": "code",
   "execution_count": null,
   "id": "11",
   "metadata": {
    "pycharm": {
     "name": "#%%\n"
    }
   },
   "outputs": [],
   "source": [
    "if val_metrics_csv.is_file():\n",
    "    plot_pr_and_roc_curves_from_csv(val_metrics_csv)"
   ]
  },
  {
   "cell_type": "markdown",
   "id": "12",
   "metadata": {
    "pycharm": {
     "name": "#%% md\n"
    }
   },
   "source": [
    "## Training set"
   ]
  },
  {
   "cell_type": "code",
   "execution_count": null,
   "id": "13",
   "metadata": {
    "pycharm": {
     "name": "#%%\n"
    }
   },
   "outputs": [],
   "source": [
    "if train_metrics_csv.is_file():\n",
    "    plot_pr_and_roc_curves_from_csv(train_metrics_csv)"
   ]
  },
  {
   "cell_type": "markdown",
   "id": "14",
   "metadata": {},
   "source": [
    "# Best and worst samples by ID"
   ]
  },
  {
   "cell_type": "code",
   "execution_count": null,
   "id": "15",
   "metadata": {},
   "outputs": [],
   "source": [
    "if val_metrics_csv.is_file() and test_metrics_csv.is_file():\n",
    "    print_k_best_and_worst_performing(val_metrics_csv=val_metrics_csv, test_metrics_csv=test_metrics_csv, \n",
    "                                      k=number_best_and_worst_performing)"
   ]
  },
  {
   "cell_type": "markdown",
   "id": "16",
   "metadata": {},
   "source": [
    "# Plot best and worst sample images"
   ]
  },
  {
   "cell_type": "code",
   "execution_count": null,
   "id": "17",
   "metadata": {},
   "outputs": [],
   "source": [
    "if val_metrics_csv.is_file() and test_metrics_csv.is_file() and dataset_csv_path.is_file() and \\\n",
    " dataset_subject_column and dataset_file_column:\n",
    "    plot_k_best_and_worst_performing(val_metrics_csv=val_metrics_csv, test_metrics_csv=test_metrics_csv, \n",
    "                                     k=number_best_and_worst_performing, dataset_csv_path=dataset_csv_path,\n",
    "                                     dataset_subject_column=dataset_subject_column, dataset_file_column=dataset_file_column)"
   ]
  },
  {
   "cell_type": "code",
   "execution_count": null,
   "id": "18",
   "metadata": {},
   "outputs": [],
   "source": []
  }
 ],
 "metadata": {
  "celltoolbar": "Tags",
  "kernelspec": {
   "display_name": "Python 3",
   "language": "python",
   "name": "python3"
  },
  "language_info": {
   "codemirror_mode": {
    "name": "ipython",
    "version": 3
   },
   "file_extension": ".py",
   "mimetype": "text/x-python",
   "name": "python",
   "nbconvert_exporter": "python",
   "pygments_lexer": "ipython3",
   "version": "3.7.3"
  }
 },
 "nbformat": 4,
 "nbformat_minor": 5
}
