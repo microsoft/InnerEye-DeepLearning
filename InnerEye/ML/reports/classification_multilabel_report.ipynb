{
 "cells": [
  {
   "cell_type": "code",
   "execution_count": null,
   "id": "1",
   "metadata": {},
   "outputs": [],
   "source": [
    "%%javascript\n",
    "IPython.OutputArea.prototype._should_scroll = function(lines) {\n",
    "    return false;\n",
    "}\n",
    "// Stops auto-scrolling so entire output is visible: see https://stackoverflow.com/a/41646403"
   ]
  },
  {
   "cell_type": "code",
   "execution_count": null,
   "id": "2",
   "metadata": {
    "pycharm": {
     "name": "#%%\n"
    },
    "tags": [
     "parameters"
    ]
   },
   "outputs": [],
   "source": [
    "# Default parameter values. They will be overwritten by papermill notebook parameters.\n",
    "# This cell must carry the tag \"parameters\" in its metadata.\n",
    "from pathlib import Path\n",
    "import pickle\n",
    "import codecs\n",
    "\n",
    "innereye_path = Path.cwd().parent.parent.parent\n",
    "train_metrics_csv = \"\"\n",
    "val_metrics_csv = \"\"\n",
    "test_metrics_csv = \"\"\n",
    "number_best_and_worst_performing = 20\n",
    "config= \"\""
   ]
  },
  {
   "cell_type": "code",
   "execution_count": null,
   "id": "3",
   "metadata": {
    "pycharm": {
     "name": "#%%\n"
    }
   },
   "outputs": [],
   "source": [
    "import sys\n",
    "print(f\"Adding to path: {innereye_path}\")\n",
    "if str(innereye_path) not in sys.path:\n",
    "    sys.path.append(str(innereye_path))\n",
    "\n",
    "%matplotlib inline\n",
    "import matplotlib.pyplot as plt\n",
    "\n",
    "config = pickle.loads(codecs.decode(config.encode(), \"base64\"))\n",
    "\n",
    "from InnerEye.ML.reports.notebook_report import print_header\n",
    "from InnerEye.ML.reports.classification_report import print_metrics, \\\n",
    "ReportedMetrics, get_metric, get_labels_and_predictions\n",
    "from InnerEye.ML.reports.classification_multilabel_report import get_unique_prediction_target_combinations, \\\n",
    "get_labels_and_predictions_for_prediction_target_set\n",
    "\n",
    "import warnings\n",
    "warnings.filterwarnings(\"ignore\")\n",
    "plt.rcParams['figure.figsize'] = (20, 10)\n",
    "\n",
    "#convert params to Path\n",
    "train_metrics_csv = Path(train_metrics_csv)\n",
    "val_metrics_csv = Path(val_metrics_csv)\n",
    "test_metrics_csv = Path(test_metrics_csv)"
   ]
  },
  {
   "cell_type": "code",
   "execution_count": null,
   "id": "4",
   "metadata": {},
   "outputs": [],
   "source": [
    "unique_prediction_target_combinations = get_unique_prediction_target_combinations(config)\n",
    "all_prediction_target_combinations = list(set([(l,) for l in config.class_names]) | set(map(tuple, unique_prediction_target_combinations)))"
   ]
  },
  {
   "cell_type": "markdown",
   "id": "5",
   "metadata": {},
   "source": [
    "# Train Metrics (for label combinations)"
   ]
  },
  {
   "cell_type": "code",
   "execution_count": null,
   "id": "6",
   "metadata": {},
   "outputs": [],
   "source": [
    "if train_metrics_csv.is_file():\n",
    "    thresholds_per_prediction_target = []\n",
    "    for label in config.class_names:\n",
    "        train_metrics = get_labels_and_predictions(train_metrics_csv, label)\n",
    "        thresholds_per_prediction_target.append(get_metric(val_labels_and_predictions=train_metrics,\n",
    "                                                test_labels_and_predictions=train_metrics,\n",
    "                                                metric=ReportedMetrics.OptimalThreshold))\n",
    "\n",
    "    for labels in all_prediction_target_combinations:\n",
    "        print_header(f\"Class {'|'.join(labels) or 'Negative'}\", level=3)\n",
    "        train_metrics = get_labels_and_predictions_for_prediction_target_set(train_metrics_csv, labels, config.class_names, thresholds_per_prediction_target)\n",
    "        print_metrics(val_labels_and_predictions=train_metrics, test_labels_and_predictions=train_metrics, is_thresholded=True)"
   ]
  },
  {
   "cell_type": "markdown",
   "id": "7",
   "metadata": {},
   "source": [
    "# Validation Metrics (for label combinations)"
   ]
  },
  {
   "cell_type": "code",
   "execution_count": null,
   "id": "8",
   "metadata": {},
   "outputs": [],
   "source": [
    "if val_metrics_csv.is_file():\n",
    "    thresholds_per_prediction_target = []\n",
    "    for label in config.class_names:\n",
    "        val_metrics = get_labels_and_predictions(val_metrics_csv, label)\n",
    "        thresholds_per_prediction_target.append(get_metric(val_labels_and_predictions=val_metrics,\n",
    "                                                test_labels_and_predictions=val_metrics,\n",
    "                                                metric=ReportedMetrics.OptimalThreshold))\n",
    "\n",
    "    for labels in all_prediction_target_combinations:\n",
    "        print_header(f\"Class {'|'.join(labels) or 'Negative'}\", level=3)\n",
    "        val_metrics = get_labels_and_predictions_for_prediction_target_set(val_metrics_csv, labels, config.class_names, thresholds_per_prediction_target)\n",
    "        print_metrics(val_labels_and_predictions=val_metrics, test_labels_and_predictions=val_metrics, is_thresholded=True)"
   ]
  },
  {
   "cell_type": "markdown",
   "id": "9",
   "metadata": {},
   "source": [
    "# Test Metrics (for label combinations)"
   ]
  },
  {
   "cell_type": "code",
   "execution_count": null,
   "id": "10",
   "metadata": {},
   "outputs": [],
   "source": [
    "if val_metrics_csv.is_file() and test_metrics_csv.is_file():\n",
    "    thresholds_per_prediction_target = []\n",
    "    for label in config.class_names:\n",
    "        val_metrics = get_labels_and_predictions(val_metrics_csv, label)\n",
    "        test_metrics = get_labels_and_predictions(test_metrics_csv, label)\n",
    "        thresholds_per_prediction_target.append(get_metric(val_labels_and_predictions=val_metrics,\n",
    "                                                test_labels_and_predictions=test_metrics,\n",
    "                                                metric=ReportedMetrics.OptimalThreshold))\n",
    "\n",
    "    for labels in all_prediction_target_combinations:\n",
    "        print_header(f\"Class {'|'.join(labels) or 'Negative'}\", level=3)\n",
    "        val_metrics = get_labels_and_predictions_for_prediction_target_set(val_metrics_csv, labels, config.class_names, thresholds_per_prediction_target)\n",
    "        test_metrics = get_labels_and_predictions_for_prediction_target_set(test_metrics_csv, labels, config.class_names, thresholds_per_prediction_target)\n",
    "        print_metrics(val_labels_and_predictions=val_metrics, test_labels_and_predictions=test_metrics, is_thresholded=True)"
   ]
  }
 ],
 "metadata": {
  "celltoolbar": "Tags",
  "kernelspec": {
   "display_name": "Python 3",
   "language": "python",
   "name": "python3"
  },
  "language_info": {
   "codemirror_mode": {
    "name": "ipython",
    "version": 3
   },
   "file_extension": ".py",
   "mimetype": "text/x-python",
   "name": "python",
   "nbconvert_exporter": "python",
   "pygments_lexer": "ipython3",
   "version": "3.7.3"
  }
 },
 "nbformat": 4,
 "nbformat_minor": 5
}