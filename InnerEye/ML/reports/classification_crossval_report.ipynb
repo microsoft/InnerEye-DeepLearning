{
 "cells": [
  {
   "cell_type": "code",
   "execution_count": null,
   "id": "1",
   "metadata": {},
   "outputs": [],
   "source": [
    "%%javascript\n",
    "IPython.OutputArea.prototype._should_scroll = function(lines) {\n",
    "    return false;\n",
    "}\n",
    "// Stops auto-scrolling so entire output is visible: see https://stackoverflow.com/a/41646403"
   ]
  },
  {
   "cell_type": "code",
   "execution_count": null,
   "id": "2",
   "metadata": {
    "tags": [
     "parameters"
    ]
   },
   "outputs": [],
   "source": [
    "# Default parameter values. They will be overwritten by papermill notebook parameters.\n",
    "# This cell must carry the tag \"parameters\" in its metadata.\n",
    "from pathlib import Path\n",
    "import pickle\n",
    "import codecs\n",
    "\n",
    "innereye_path = Path.cwd().parent.parent.parent\n",
    "train_metrics_csv = \"\"\n",
    "val_metrics_csv = innereye_path / 'Tests' / 'ML' / 'reports' / 'val_metrics_classification.csv'\n",
    "test_metrics_csv = innereye_path / 'Tests' / 'ML' / 'reports' / 'test_metrics_classification.csv'\n",
    "number_best_and_worst_performing = 20\n",
    "config = \"\"\n",
    "is_crossval_report = False"
   ]
  },
  {
   "cell_type": "code",
   "execution_count": null,
   "id": "3",
   "metadata": {},
   "outputs": [],
   "source": [
    "import sys\n",
    "if str(innereye_path) not in sys.path:\n",
    "    sys.path.append(str(innereye_path))\n",
    "from InnerEye.Common.fixed_paths import add_submodules_to_path\n",
    "add_submodules_to_path()\n",
    "\n",
    "%matplotlib inline\n",
    "import matplotlib.pyplot as plt\n",
    "\n",
    "config = pickle.loads(codecs.decode(config.encode(), \"base64\"))\n",
    "\n",
    "from InnerEye.ML.common import ModelExecutionMode\n",
    "from InnerEye.ML.reports.notebook_report import print_header\n",
    "from InnerEye.ML.reports.classification_report import plot_pr_and_roc_curves_from_csv, \\\n",
    "    print_k_best_and_worst_performing, print_metrics_for_all_prediction_targets, \\\n",
    "    plot_k_best_and_worst_performing\n",
    "\n",
    "import warnings\n",
    "warnings.filterwarnings(\"ignore\")\n",
    "plt.rcParams['figure.figsize'] = (20, 10)\n",
    "\n",
    "#convert params to Path\n",
    "train_metrics_csv = Path(train_metrics_csv)\n",
    "val_metrics_csv = Path(val_metrics_csv)\n",
    "test_metrics_csv = Path(test_metrics_csv)"
   ]
  },
  {
   "cell_type": "markdown",
   "id": "4",
   "metadata": {},
   "source": [
    "# Metrics\n",
    "## Train Set"
   ]
  },
  {
   "cell_type": "code",
   "execution_count": null,
   "id": "5",
   "metadata": {},
   "outputs": [],
   "source": [
    "if train_metrics_csv.is_file():\n",
    "    print_metrics_for_all_prediction_targets(csv_to_set_optimal_threshold=train_metrics_csv,\n",
    "                                             data_split_to_set_optimal_threshold=ModelExecutionMode.TRAIN,\n",
    "                                             csv_to_compute_metrics=train_metrics_csv,\n",
    "                                             data_split_to_compute_metrics=ModelExecutionMode.TRAIN,\n",
    "                                             config=config, is_thresholded=False, is_crossval_report=is_crossval_report)"
   ]
  },
  {
   "cell_type": "markdown",
   "id": "6",
   "metadata": {},
   "source": [
    "## Validation Set"
   ]
  },
  {
   "cell_type": "code",
   "execution_count": null,
   "id": "7",
   "metadata": {},
   "outputs": [],
   "source": [
    "if val_metrics_csv.is_file():\n",
    "    print_metrics_for_all_prediction_targets(csv_to_set_optimal_threshold=val_metrics_csv,\n",
    "                                             data_split_to_set_optimal_threshold=ModelExecutionMode.VAL,\n",
    "                                             csv_to_compute_metrics=val_metrics_csv,\n",
    "                                             data_split_to_compute_metrics=ModelExecutionMode.VAL,\n",
    "                                             config=config, is_thresholded=False, is_crossval_report=is_crossval_report)"
   ]
  },
  {
   "cell_type": "markdown",
   "id": "8",
   "metadata": {},
   "source": [
    "## Test Set"
   ]
  },
  {
   "cell_type": "code",
   "execution_count": null,
   "id": "9",
   "metadata": {},
   "outputs": [],
   "source": [
    "if val_metrics_csv.is_file() and test_metrics_csv.is_file():\n",
    "    print_metrics_for_all_prediction_targets(csv_to_set_optimal_threshold=val_metrics_csv,\n",
    "                                             data_split_to_set_optimal_threshold=ModelExecutionMode.VAL,\n",
    "                                             csv_to_compute_metrics=test_metrics_csv,\n",
    "                                             data_split_to_compute_metrics=ModelExecutionMode.TEST,\n",
    "                                             config=config, is_thresholded=False, is_crossval_report=is_crossval_report)"
   ]
  },
  {
   "cell_type": "markdown",
   "id": "10",
   "metadata": {},
   "source": [
    "# ROC and PR curves\n",
    "## Train Set"
   ]
  },
  {
   "cell_type": "code",
   "execution_count": null,
   "id": "11",
   "metadata": {},
   "outputs": [],
   "source": [
    "if train_metrics_csv.is_file():\n",
    "    plot_pr_and_roc_curves_from_csv(metrics_csv=train_metrics_csv, data_split=ModelExecutionMode.TRAIN, config=config,\n",
    "                                    is_crossval_report=is_crossval_report)"
   ]
  },
  {
   "cell_type": "markdown",
   "id": "12",
   "metadata": {},
   "source": [
    "## Validation set"
   ]
  },
  {
   "cell_type": "code",
   "execution_count": null,
   "id": "13",
   "metadata": {},
   "outputs": [],
   "source": [
    "if val_metrics_csv.is_file():\n",
    "    plot_pr_and_roc_curves_from_csv(metrics_csv=val_metrics_csv, data_split=ModelExecutionMode.VAL, config=config,\n",
    "                                    is_crossval_report=is_crossval_report)"
   ]
  },
  {
   "cell_type": "markdown",
   "id": "14",
   "metadata": {},
   "source": [
    "## Test set"
   ]
  },
  {
   "cell_type": "code",
   "execution_count": null,
   "id": "15",
   "metadata": {},
   "outputs": [],
   "source": [
    "if test_metrics_csv.is_file():\n",
    "    # When analyzing cross validation runs, the report is started with a file that contains both\n",
    "    # validation and test set metrics in one. The test set metrics however may be missing if\n",
    "    # inference on the test set for cross validation child runs is turned off, leading to exceptions.\n",
    "    if not is_crossval_report or (is_crossval_report and config.inference_on_test_set):\n",
    "        plot_pr_and_roc_curves_from_csv(metrics_csv=test_metrics_csv, data_split=ModelExecutionMode.TEST, config=config,\n",
    "                                        is_crossval_report=is_crossval_report)"
   ]
  },
  {
   "cell_type": "markdown",
   "id": "16",
   "metadata": {},
   "source": [
    "# Best and worst samples by ID"
   ]
  },
  {
   "cell_type": "code",
   "execution_count": null,
   "id": "17",
   "metadata": {},
   "outputs": [],
   "source": [
    "if not is_crossval_report and val_metrics_csv.is_file() and test_metrics_csv.is_file():\n",
    "    for prediction_target in config.target_names:\n",
    "        print_header(f\"Class: {prediction_target}\", level=3)\n",
    "        print_k_best_and_worst_performing(val_metrics_csv=val_metrics_csv, test_metrics_csv=test_metrics_csv,\n",
    "                                          k=number_best_and_worst_performing,\n",
    "                                          prediction_target=prediction_target)"
   ]
  },
  {
   "cell_type": "markdown",
   "source": [
    "# Plot best and worst sample images"
   ],
   "metadata": {
    "collapsed": false
   }
  },
  {
   "cell_type": "code",
   "execution_count": null,
   "outputs": [],
   "source": [
    "if not is_crossval_report and val_metrics_csv.is_file() and test_metrics_csv.is_file():\n",
    "    for prediction_target in config.target_names:\n",
    "        print_header(f\"Class: {prediction_target}\", level=3)\n",
    "        plot_k_best_and_worst_performing(val_metrics_csv=val_metrics_csv, test_metrics_csv=test_metrics_csv,\n",
    "                                         k=number_best_and_worst_performing, prediction_target=prediction_target,\n",
    "                                         config=config)"
   ],
   "metadata": {
    "collapsed": false
   }
  }
 ],
 "metadata": {
  "celltoolbar": "Tags",
  "kernelspec": {
   "display_name": "Python 3",
   "language": "python",
   "name": "python3"
  },
  "language_info": {
   "codemirror_mode": {
    "name": "ipython",
    "version": 3
   },
   "file_extension": ".py",
   "mimetype": "text/x-python",
   "name": "python",
   "nbconvert_exporter": "python",
   "pygments_lexer": "ipython3",
   "version": "3.7.3"
  }
 },
 "nbformat": 4,
 "nbformat_minor": 5
}
