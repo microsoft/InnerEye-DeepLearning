{
 "cells": [
  {
   "cell_type": "code",
   "execution_count": 1,
   "metadata": {
    "pycharm": {
     "name": "#%%\n"
    },
    "tags": [
     "parameters"
    ]
   },
   "outputs": [],
   "source": [
    "\n",
    "metrics_csv = '/mnt/c/Users/jaalvare/work/InnerEye-DeepLearning/Tests/ML/reports/metrics_hn.csv'\n"
   ]
  },
  {
   "cell_type": "code",
   "execution_count": 2,
   "metadata": {
    "pycharm": {
     "name": "#%%\n"
    }
   },
   "outputs": [
    {
     "name": "stdout",
     "output_type": "stream",
     "text": [
      "/mnt/c/Users/jaalvare/work/InnerEye-DeepLearning/Tests/ML/reports/metrics_hn.csv\n"
     ]
    }
   ],
   "source": [
    "print(metrics_csv)"
   ]
  },
  {
   "cell_type": "code",
   "execution_count": 3,
   "metadata": {
    "pycharm": {
     "name": "#%%\n"
    }
   },
   "outputs": [
    {
     "name": "stdout",
     "output_type": "stream",
     "text": [
      "/mnt/c/Users/jaalvare/work/InnerEye-DeepLearning\n",
      "['/mnt/c/Users/jaalvare/work/InnerEye-DeepLearning/InnerEye/ML/reports/segmentation', '/home/jaalvare/miniconda3/envs/InnerEye/lib/python37.zip', '/home/jaalvare/miniconda3/envs/InnerEye/lib/python3.7', '/home/jaalvare/miniconda3/envs/InnerEye/lib/python3.7/lib-dynload', '', '/home/jaalvare/miniconda3/envs/InnerEye/lib/python3.7/site-packages', '/home/jaalvare/miniconda3/envs/InnerEye/lib/python3.7/site-packages/IPython/extensions', '/home/jaalvare/.ipython', '/mnt/c/Users/jaalvare/work/InnerEye-DeepLearning']\n"
     ]
    },
    {
     "name": "stderr",
     "output_type": "stream",
     "text": [
      "Failure while loading azureml_run_type_providers. Failed to load entrypoint hyperdrive = azureml.train.hyperdrive:HyperDriveRun._from_run_dto with exception cannot import name '_DistributedTraining' from 'azureml.train._distributed_training' (/home/jaalvare/miniconda3/envs/InnerEye/lib/python3.7/site-packages/azureml/train/_distributed_training.py).\n"
     ]
    }
   ],
   "source": [
    "import pandas as pd\n",
    "import matplotlib.pyplot as plt\n",
    "import sys\n",
    "from pathlib import Path\n",
    "innereye_path=str(Path().parent.absolute().parent.parent.parent.parent)\n",
    "# sys.path.remove(Path().parent.absolute().parent.parent.parent.parent)\n",
    "print(innereye_path)\n",
    "if innereye_path not in sys.path:\n",
    "    sys.path.append(innereye_path)\n",
    "print(sys.path)\n",
    "from InnerEye.ML.utils.metrics_util import dice_boxplot_per_structure"
   ]
  },
  {
   "cell_type": "code",
   "execution_count": 7,
   "metadata": {
    "pycharm": {
     "name": "#%%\n"
    }
   },
   "outputs": [
    {
     "data": {
      "text/plain": "array(['brainstem', 'cochlea_l', 'cochlea_r', 'external', 'globe_l',\n       'globe_r', 'lacrimal_gland_l', 'lacrimal_gland_r', 'lens_l',\n       'lens_r', 'mandible', 'mpc_muscle', 'optic_chiasm',\n       'optic_nerve_l', 'optic_nerve_r', 'parotid_l', 'parotid_r',\n       'pituitary_gland', 'smg_l', 'smg_r', 'spc_muscle', 'spinal_cord'],\n      dtype=object)"
     },
     "execution_count": 7,
     "metadata": {},
     "output_type": "execute_result"
    }
   ],
   "source": [
    "df = pd.read_csv(metrics_csv)\n",
    "df.Structure.unique()\n"
   ]
  },
  {
   "cell_type": "code",
   "execution_count": 14,
   "metadata": {
    "pycharm": {
     "name": "#%%\n"
    }
   },
   "outputs": [
    {
     "data": {
      "text/plain": "<Figure size 1440x720 with 1 Axes>",
      "image/png": "[encoded data removed]"
     },
     "metadata": {
      "needs_background": "light"
     },
     "output_type": "display_data"
    }
   ],
   "source": [
    "plt.rcParams['figure.figsize'] = (20, 10)\n",
    "dice_boxplot_per_structure(df, dice_column_name=\"Dice\")\n",
    "plt.show()"
   ]
  },
  {
   "cell_type": "code",
   "execution_count": null,
   "outputs": [],
   "source": [],
   "metadata": {
    "collapsed": false,
    "pycharm": {
     "name": "#%%\n"
    }
   }
  },
  {
   "cell_type": "code",
   "execution_count": null,
   "metadata": {
    "pycharm": {
     "name": "#%%\n"
    }
   },
   "outputs": [],
   "source": []
  },
  {
   "cell_type": "code",
   "execution_count": null,
   "metadata": {
    "pycharm": {
     "name": "#%%\n"
    }
   },
   "outputs": [],
   "source": []
  },
  {
   "cell_type": "code",
   "execution_count": null,
   "metadata": {},
   "outputs": [],
   "source": []
  }
 ],
 "metadata": {
  "celltoolbar": "Tags",
  "kernelspec": {
   "display_name": "Python 3",
   "language": "python",
   "name": "python3"
  },
  "language_info": {
   "codemirror_mode": {
    "name": "ipython",
    "version": 3
   },
   "file_extension": ".py",
   "mimetype": "text/x-python",
   "name": "python",
   "nbconvert_exporter": "python",
   "pygments_lexer": "ipython3",
   "version": "3.7.3"
  }
 },
 "nbformat": 4,
 "nbformat_minor": 1
}